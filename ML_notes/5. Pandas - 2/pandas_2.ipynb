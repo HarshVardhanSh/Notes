{
 "cells": [
  {
   "cell_type": "markdown",
   "metadata": {},
   "source": [
    "## Series Data Structure"
   ]
  },
  {
   "cell_type": "code",
   "execution_count": 2,
   "metadata": {
    "ExecuteTime": {
     "end_time": "2018-06-11T06:32:55.646399Z",
     "start_time": "2018-06-11T06:32:46.585236Z"
    }
   },
   "outputs": [
    {
     "name": "stdout",
     "output_type": "stream",
     "text": [
      "Series([], dtype: float64)\n"
     ]
    }
   ],
   "source": [
    "# pd.Series(data,index)\n",
    "# index-> Unique, Hashable, same length as data. By default np.arange(n)\n",
    "\n",
    "import pandas as pd\n",
    "\n",
    "s = pd.Series()\n",
    "\n",
    "print(s)"
   ]
  },
  {
   "cell_type": "markdown",
   "metadata": {
    "ExecuteTime": {
     "end_time": "2018-06-08T14:47:25.311911Z",
     "start_time": "2018-06-08T14:47:25.097520Z"
    }
   },
   "source": [
    "### Creating Series from ndarray"
   ]
  },
  {
   "cell_type": "code",
   "execution_count": 3,
   "metadata": {
    "ExecuteTime": {
     "end_time": "2018-06-11T06:32:55.679449Z",
     "start_time": "2018-06-11T06:32:55.665313Z"
    },
    "scrolled": false
   },
   "outputs": [
    {
     "name": "stdout",
     "output_type": "stream",
     "text": [
      "0    a\n",
      "1    b\n",
      "2    c\n",
      "3    d\n",
      "dtype: object\n"
     ]
    }
   ],
   "source": [
    "import numpy as np\n",
    "\n",
    "data = np.array(['a', 'b', 'c', 'd'])\n",
    "\n",
    "s = pd.Series(data)\n",
    "\n",
    "print(s)"
   ]
  },
  {
   "cell_type": "markdown",
   "metadata": {
    "ExecuteTime": {
     "end_time": "2018-06-08T14:50:50.249754Z",
     "start_time": "2018-06-08T14:50:50.141105Z"
    }
   },
   "source": [
    "### Create Series from dict"
   ]
  },
  {
   "cell_type": "code",
   "execution_count": 4,
   "metadata": {
    "ExecuteTime": {
     "end_time": "2018-06-11T06:32:55.870933Z",
     "start_time": "2018-06-11T06:32:55.710451Z"
    }
   },
   "outputs": [
    {
     "name": "stdout",
     "output_type": "stream",
     "text": [
      "a    0.0\n",
      "b    1.0\n",
      "c    2.0\n",
      "dtype: float64\n"
     ]
    }
   ],
   "source": [
    "data = {'a':0., 'b':1., 'c':2.}\n",
    "\n",
    "s = pd.Series(data)\n",
    "\n",
    "print(s)"
   ]
  },
  {
   "cell_type": "markdown",
   "metadata": {},
   "source": [
    "### Data accessing using Index"
   ]
  },
  {
   "cell_type": "code",
   "execution_count": 5,
   "metadata": {
    "ExecuteTime": {
     "end_time": "2018-06-11T06:32:56.047106Z",
     "start_time": "2018-06-11T06:32:55.899354Z"
    }
   },
   "outputs": [
    {
     "name": "stdout",
     "output_type": "stream",
     "text": [
      "a    1\n",
      "b    2\n",
      "c    3\n",
      "d    4\n",
      "e    5\n",
      "dtype: int64\n"
     ]
    }
   ],
   "source": [
    "s = pd.Series([1, 2, 3, 4, 5], index=['a', 'b', 'c', 'd', 'e'])\n",
    "\n",
    "print(s)"
   ]
  },
  {
   "cell_type": "code",
   "execution_count": 7,
   "metadata": {
    "ExecuteTime": {
     "end_time": "2018-06-11T06:33:31.923970Z",
     "start_time": "2018-06-11T06:33:31.918261Z"
    },
    "code_folding": []
   },
   "outputs": [
    {
     "name": "stdout",
     "output_type": "stream",
     "text": [
      "1\n"
     ]
    }
   ],
   "source": [
    "print(s['a'])"
   ]
  },
  {
   "cell_type": "code",
   "execution_count": 6,
   "metadata": {
    "ExecuteTime": {
     "end_time": "2018-06-10T14:36:15.583302Z",
     "start_time": "2018-06-10T14:36:15.567335Z"
    }
   },
   "outputs": [
    {
     "name": "stdout",
     "output_type": "stream",
     "text": [
      "a    1\n",
      "b    2\n",
      "e    5\n",
      "dtype: int64\n"
     ]
    }
   ],
   "source": [
    "# Retrieve multiple elements\n",
    "\n",
    "print(s[['a', 'b', 'e']])"
   ]
  },
  {
   "cell_type": "code",
   "execution_count": 8,
   "metadata": {
    "ExecuteTime": {
     "end_time": "2018-06-11T06:35:08.126654Z",
     "start_time": "2018-06-11T06:35:07.807380Z"
    }
   },
   "outputs": [
    {
     "ename": "KeyError",
     "evalue": "'f'",
     "output_type": "error",
     "traceback": [
      "\u001b[1;31m---------------------------------------------------------------------------\u001b[0m",
      "\u001b[1;31mTypeError\u001b[0m                                 Traceback (most recent call last)",
      "\u001b[1;32mc:\\users\\kanav\\appdata\\local\\programs\\python\\python36-32\\lib\\site-packages\\pandas\\core\\indexes\\base.py\u001b[0m in \u001b[0;36mget_value\u001b[1;34m(self, series, key)\u001b[0m\n\u001b[0;32m   3108\u001b[0m             \u001b[1;32mtry\u001b[0m\u001b[1;33m:\u001b[0m\u001b[1;33m\u001b[0m\u001b[0m\n\u001b[1;32m-> 3109\u001b[1;33m                 \u001b[1;32mreturn\u001b[0m \u001b[0mlibindex\u001b[0m\u001b[1;33m.\u001b[0m\u001b[0mget_value_box\u001b[0m\u001b[1;33m(\u001b[0m\u001b[0ms\u001b[0m\u001b[1;33m,\u001b[0m \u001b[0mkey\u001b[0m\u001b[1;33m)\u001b[0m\u001b[1;33m\u001b[0m\u001b[0m\n\u001b[0m\u001b[0;32m   3110\u001b[0m             \u001b[1;32mexcept\u001b[0m \u001b[0mIndexError\u001b[0m\u001b[1;33m:\u001b[0m\u001b[1;33m\u001b[0m\u001b[0m\n",
      "\u001b[1;32mpandas\\_libs\\index.pyx\u001b[0m in \u001b[0;36mpandas._libs.index.get_value_box\u001b[1;34m()\u001b[0m\n",
      "\u001b[1;32mpandas\\_libs\\index.pyx\u001b[0m in \u001b[0;36mpandas._libs.index.get_value_box\u001b[1;34m()\u001b[0m\n",
      "\u001b[1;31mTypeError\u001b[0m: 'str' object cannot be interpreted as an integer",
      "\nDuring handling of the above exception, another exception occurred:\n",
      "\u001b[1;31mKeyError\u001b[0m                                  Traceback (most recent call last)",
      "\u001b[1;32m<ipython-input-8-facc49cb689c>\u001b[0m in \u001b[0;36m<module>\u001b[1;34m()\u001b[0m\n\u001b[1;32m----> 1\u001b[1;33m \u001b[0mprint\u001b[0m\u001b[1;33m(\u001b[0m\u001b[0ms\u001b[0m\u001b[1;33m[\u001b[0m\u001b[1;34m'f'\u001b[0m\u001b[1;33m]\u001b[0m\u001b[1;33m)\u001b[0m\u001b[1;33m\u001b[0m\u001b[0m\n\u001b[0m",
      "\u001b[1;32mc:\\users\\kanav\\appdata\\local\\programs\\python\\python36-32\\lib\\site-packages\\pandas\\core\\series.py\u001b[0m in \u001b[0;36m__getitem__\u001b[1;34m(self, key)\u001b[0m\n\u001b[0;32m    764\u001b[0m         \u001b[0mkey\u001b[0m \u001b[1;33m=\u001b[0m \u001b[0mcom\u001b[0m\u001b[1;33m.\u001b[0m\u001b[0m_apply_if_callable\u001b[0m\u001b[1;33m(\u001b[0m\u001b[0mkey\u001b[0m\u001b[1;33m,\u001b[0m \u001b[0mself\u001b[0m\u001b[1;33m)\u001b[0m\u001b[1;33m\u001b[0m\u001b[0m\n\u001b[0;32m    765\u001b[0m         \u001b[1;32mtry\u001b[0m\u001b[1;33m:\u001b[0m\u001b[1;33m\u001b[0m\u001b[0m\n\u001b[1;32m--> 766\u001b[1;33m             \u001b[0mresult\u001b[0m \u001b[1;33m=\u001b[0m \u001b[0mself\u001b[0m\u001b[1;33m.\u001b[0m\u001b[0mindex\u001b[0m\u001b[1;33m.\u001b[0m\u001b[0mget_value\u001b[0m\u001b[1;33m(\u001b[0m\u001b[0mself\u001b[0m\u001b[1;33m,\u001b[0m \u001b[0mkey\u001b[0m\u001b[1;33m)\u001b[0m\u001b[1;33m\u001b[0m\u001b[0m\n\u001b[0m\u001b[0;32m    767\u001b[0m \u001b[1;33m\u001b[0m\u001b[0m\n\u001b[0;32m    768\u001b[0m             \u001b[1;32mif\u001b[0m \u001b[1;32mnot\u001b[0m \u001b[0mis_scalar\u001b[0m\u001b[1;33m(\u001b[0m\u001b[0mresult\u001b[0m\u001b[1;33m)\u001b[0m\u001b[1;33m:\u001b[0m\u001b[1;33m\u001b[0m\u001b[0m\n",
      "\u001b[1;32mc:\\users\\kanav\\appdata\\local\\programs\\python\\python36-32\\lib\\site-packages\\pandas\\core\\indexes\\base.py\u001b[0m in \u001b[0;36mget_value\u001b[1;34m(self, series, key)\u001b[0m\n\u001b[0;32m   3115\u001b[0m                     \u001b[1;32mraise\u001b[0m \u001b[0mInvalidIndexError\u001b[0m\u001b[1;33m(\u001b[0m\u001b[0mkey\u001b[0m\u001b[1;33m)\u001b[0m\u001b[1;33m\u001b[0m\u001b[0m\n\u001b[0;32m   3116\u001b[0m                 \u001b[1;32melse\u001b[0m\u001b[1;33m:\u001b[0m\u001b[1;33m\u001b[0m\u001b[0m\n\u001b[1;32m-> 3117\u001b[1;33m                     \u001b[1;32mraise\u001b[0m \u001b[0me1\u001b[0m\u001b[1;33m\u001b[0m\u001b[0m\n\u001b[0m\u001b[0;32m   3118\u001b[0m             \u001b[1;32mexcept\u001b[0m \u001b[0mException\u001b[0m\u001b[1;33m:\u001b[0m  \u001b[1;31m# pragma: no cover\u001b[0m\u001b[1;33m\u001b[0m\u001b[0m\n\u001b[0;32m   3119\u001b[0m                 \u001b[1;32mraise\u001b[0m \u001b[0me1\u001b[0m\u001b[1;33m\u001b[0m\u001b[0m\n",
      "\u001b[1;32mc:\\users\\kanav\\appdata\\local\\programs\\python\\python36-32\\lib\\site-packages\\pandas\\core\\indexes\\base.py\u001b[0m in \u001b[0;36mget_value\u001b[1;34m(self, series, key)\u001b[0m\n\u001b[0;32m   3101\u001b[0m         \u001b[1;32mtry\u001b[0m\u001b[1;33m:\u001b[0m\u001b[1;33m\u001b[0m\u001b[0m\n\u001b[0;32m   3102\u001b[0m             return self._engine.get_value(s, k,\n\u001b[1;32m-> 3103\u001b[1;33m                                           tz=getattr(series.dtype, 'tz', None))\n\u001b[0m\u001b[0;32m   3104\u001b[0m         \u001b[1;32mexcept\u001b[0m \u001b[0mKeyError\u001b[0m \u001b[1;32mas\u001b[0m \u001b[0me1\u001b[0m\u001b[1;33m:\u001b[0m\u001b[1;33m\u001b[0m\u001b[0m\n\u001b[0;32m   3105\u001b[0m             \u001b[1;32mif\u001b[0m \u001b[0mlen\u001b[0m\u001b[1;33m(\u001b[0m\u001b[0mself\u001b[0m\u001b[1;33m)\u001b[0m \u001b[1;33m>\u001b[0m \u001b[1;36m0\u001b[0m \u001b[1;32mand\u001b[0m \u001b[0mself\u001b[0m\u001b[1;33m.\u001b[0m\u001b[0minferred_type\u001b[0m \u001b[1;32min\u001b[0m \u001b[1;33m[\u001b[0m\u001b[1;34m'integer'\u001b[0m\u001b[1;33m,\u001b[0m \u001b[1;34m'boolean'\u001b[0m\u001b[1;33m]\u001b[0m\u001b[1;33m:\u001b[0m\u001b[1;33m\u001b[0m\u001b[0m\n",
      "\u001b[1;32mpandas\\_libs\\index.pyx\u001b[0m in \u001b[0;36mpandas._libs.index.IndexEngine.get_value\u001b[1;34m()\u001b[0m\n",
      "\u001b[1;32mpandas\\_libs\\index.pyx\u001b[0m in \u001b[0;36mpandas._libs.index.IndexEngine.get_value\u001b[1;34m()\u001b[0m\n",
      "\u001b[1;32mpandas\\_libs\\index.pyx\u001b[0m in \u001b[0;36mpandas._libs.index.IndexEngine.get_loc\u001b[1;34m()\u001b[0m\n",
      "\u001b[1;32mpandas\\_libs\\hashtable_class_helper.pxi\u001b[0m in \u001b[0;36mpandas._libs.hashtable.PyObjectHashTable.get_item\u001b[1;34m()\u001b[0m\n",
      "\u001b[1;32mpandas\\_libs\\hashtable_class_helper.pxi\u001b[0m in \u001b[0;36mpandas._libs.hashtable.PyObjectHashTable.get_item\u001b[1;34m()\u001b[0m\n",
      "\u001b[1;31mKeyError\u001b[0m: 'f'"
     ]
    }
   ],
   "source": [
    "print(s['f'])"
   ]
  },
  {
   "cell_type": "markdown",
   "metadata": {},
   "source": [
    "### Re indexing"
   ]
  },
  {
   "cell_type": "code",
   "execution_count": 9,
   "metadata": {
    "ExecuteTime": {
     "end_time": "2018-06-11T06:42:26.239940Z",
     "start_time": "2018-06-11T06:42:26.143049Z"
    },
    "scrolled": false
   },
   "outputs": [
    {
     "name": "stdout",
     "output_type": "stream",
     "text": [
      "            A     x         y       C           D\n",
      "0  2018-06-11   0.0  0.862801    High   98.794789\n",
      "1  2018-06-12   1.0  0.667670  Medium   99.083704\n",
      "2  2018-06-13   2.0  0.244892  Medium  115.764496\n",
      "3  2018-06-14   3.0  0.084409  Medium  107.597325\n",
      "4  2018-06-15   4.0  0.907369  Medium   93.834387\n",
      "5  2018-06-16   5.0  0.093790  Medium   88.528228\n",
      "6  2018-06-17   6.0  0.772201     Low  126.505536\n",
      "7  2018-06-18   7.0  0.781802  Medium  110.612894\n",
      "8  2018-06-19   8.0  0.376209  Medium  113.596429\n",
      "9  2018-06-20   9.0  0.792756    High  116.543524\n",
      "10 2018-06-21  10.0  0.524795  Medium  102.664593\n",
      "11 2018-06-22  11.0  0.781971    High   90.171065\n",
      "12 2018-06-23  12.0  0.831923  Medium  114.757689\n",
      "13 2018-06-24  13.0  0.950704    High  113.944933\n",
      "14 2018-06-25  14.0  0.660542     Low   91.553098\n",
      "15 2018-06-26  15.0  0.288369     Low   89.803977\n",
      "16 2018-06-27  16.0  0.148818     Low   88.832102\n",
      "17 2018-06-28  17.0  0.420194    High   99.866234\n",
      "18 2018-06-29  18.0  0.932269     Low  100.533606\n",
      "19 2018-06-30  19.0  0.864759     Low   89.364052\n"
     ]
    }
   ],
   "source": [
    "N = 20\n",
    "\n",
    "df = pd.DataFrame({\n",
    "    'A':pd.date_range(start='2018-06-11', periods=N),\n",
    "    'x':np.linspace(0, stop=N-1,num=N),\n",
    "    'y':np.random.rand(N),\n",
    "    'C':np.random.choice(['Low','Medium','High'],N).tolist(),\n",
    "    'D':np.random.normal(100, 10, size=(N))\n",
    "})\n",
    "\n",
    "print(df)"
   ]
  },
  {
   "cell_type": "code",
   "execution_count": 10,
   "metadata": {
    "ExecuteTime": {
     "end_time": "2018-06-11T06:44:07.398096Z",
     "start_time": "2018-06-11T06:44:07.281052Z"
    },
    "scrolled": true
   },
   "outputs": [
    {
     "data": {
      "text/html": [
       "<div>\n",
       "<style scoped>\n",
       "    .dataframe tbody tr th:only-of-type {\n",
       "        vertical-align: middle;\n",
       "    }\n",
       "\n",
       "    .dataframe tbody tr th {\n",
       "        vertical-align: top;\n",
       "    }\n",
       "\n",
       "    .dataframe thead th {\n",
       "        text-align: right;\n",
       "    }\n",
       "</style>\n",
       "<table border=\"1\" class=\"dataframe\">\n",
       "  <thead>\n",
       "    <tr style=\"text-align: right;\">\n",
       "      <th></th>\n",
       "      <th>x</th>\n",
       "      <th>y</th>\n",
       "      <th>D</th>\n",
       "    </tr>\n",
       "  </thead>\n",
       "  <tbody>\n",
       "    <tr>\n",
       "      <th>count</th>\n",
       "      <td>20.00000</td>\n",
       "      <td>20.000000</td>\n",
       "      <td>20.000000</td>\n",
       "    </tr>\n",
       "    <tr>\n",
       "      <th>mean</th>\n",
       "      <td>9.50000</td>\n",
       "      <td>0.599412</td>\n",
       "      <td>102.617633</td>\n",
       "    </tr>\n",
       "    <tr>\n",
       "      <th>std</th>\n",
       "      <td>5.91608</td>\n",
       "      <td>0.299030</td>\n",
       "      <td>11.571860</td>\n",
       "    </tr>\n",
       "    <tr>\n",
       "      <th>min</th>\n",
       "      <td>0.00000</td>\n",
       "      <td>0.084409</td>\n",
       "      <td>88.528228</td>\n",
       "    </tr>\n",
       "    <tr>\n",
       "      <th>25%</th>\n",
       "      <td>4.75000</td>\n",
       "      <td>0.354249</td>\n",
       "      <td>91.207590</td>\n",
       "    </tr>\n",
       "    <tr>\n",
       "      <th>50%</th>\n",
       "      <td>9.50000</td>\n",
       "      <td>0.719935</td>\n",
       "      <td>100.199920</td>\n",
       "    </tr>\n",
       "    <tr>\n",
       "      <th>75%</th>\n",
       "      <td>14.25000</td>\n",
       "      <td>0.839642</td>\n",
       "      <td>113.683555</td>\n",
       "    </tr>\n",
       "    <tr>\n",
       "      <th>max</th>\n",
       "      <td>19.00000</td>\n",
       "      <td>0.950704</td>\n",
       "      <td>126.505536</td>\n",
       "    </tr>\n",
       "  </tbody>\n",
       "</table>\n",
       "</div>"
      ],
      "text/plain": [
       "              x          y           D\n",
       "count  20.00000  20.000000   20.000000\n",
       "mean    9.50000   0.599412  102.617633\n",
       "std     5.91608   0.299030   11.571860\n",
       "min     0.00000   0.084409   88.528228\n",
       "25%     4.75000   0.354249   91.207590\n",
       "50%     9.50000   0.719935  100.199920\n",
       "75%    14.25000   0.839642  113.683555\n",
       "max    19.00000   0.950704  126.505536"
      ]
     },
     "execution_count": 10,
     "metadata": {},
     "output_type": "execute_result"
    }
   ],
   "source": [
    "df.describe()"
   ]
  },
  {
   "cell_type": "code",
   "execution_count": 11,
   "metadata": {
    "ExecuteTime": {
     "end_time": "2018-06-11T06:47:14.550400Z",
     "start_time": "2018-06-11T06:47:14.529896Z"
    },
    "scrolled": true
   },
   "outputs": [
    {
     "name": "stdout",
     "output_type": "stream",
     "text": [
      "           A       C   B\n",
      "0 2018-06-11    High NaN\n",
      "2 2018-06-13  Medium NaN\n",
      "5 2018-06-16  Medium NaN\n"
     ]
    }
   ],
   "source": [
    "df_reindexed = df.reindex(index=[0,2,5], columns=['A','C','B'])\n",
    "\n",
    "print(df_reindexed)"
   ]
  },
  {
   "cell_type": "code",
   "execution_count": 13,
   "metadata": {
    "ExecuteTime": {
     "end_time": "2018-06-11T06:54:47.037339Z",
     "start_time": "2018-06-11T06:54:47.017834Z"
    },
    "scrolled": false
   },
   "outputs": [
    {
     "name": "stdout",
     "output_type": "stream",
     "text": [
      "       col1      col2      col3\n",
      "0  0.510873 -0.821334  0.168419\n",
      "1 -1.144135 -0.843752  0.663920\n",
      "2  0.507895  2.292869 -2.410000\n",
      "3  0.281911 -1.720111 -1.287705\n",
      "4  0.889520  0.377303  0.735085\n",
      "5  0.520214  1.185056 -1.143105\n",
      "6 -1.977482 -1.402801 -0.324095\n",
      "7 -0.932744  2.276988  1.564680\n",
      "8 -1.103110  1.338715  0.347766\n",
      "9 -1.532697  0.914440  0.509173\n",
      "**************************************************\n",
      "       col1      col2      col3\n",
      "0  0.563894 -0.649711 -2.090522\n",
      "1  0.742647 -0.278773 -0.712817\n",
      "2 -1.375288  0.102734  0.262869\n",
      "3  0.875239 -1.780812 -0.076995\n",
      "4 -0.715191  0.246055  0.178436\n",
      "5 -0.437486  0.745659 -0.307926\n",
      "6 -0.596179 -1.897721 -1.786715\n"
     ]
    }
   ],
   "source": [
    "# Reindex to align with other Objects\n",
    "\n",
    "df_1 = pd.DataFrame(np.random.randn(10,3), columns=['col1', 'col2', 'col3'])\n",
    "df_2 = pd.DataFrame(np.random.randn(7, 3), columns=['col1', 'col2', 'col3'])\n",
    "\n",
    "print(df_1)\n",
    "\n",
    "print('*'*50)\n",
    "\n",
    "print(df_2)"
   ]
  },
  {
   "cell_type": "code",
   "execution_count": 14,
   "metadata": {
    "ExecuteTime": {
     "end_time": "2018-06-11T06:54:47.616211Z",
     "start_time": "2018-06-11T06:54:47.566716Z"
    }
   },
   "outputs": [
    {
     "data": {
      "text/html": [
       "<div>\n",
       "<style scoped>\n",
       "    .dataframe tbody tr th:only-of-type {\n",
       "        vertical-align: middle;\n",
       "    }\n",
       "\n",
       "    .dataframe tbody tr th {\n",
       "        vertical-align: top;\n",
       "    }\n",
       "\n",
       "    .dataframe thead th {\n",
       "        text-align: right;\n",
       "    }\n",
       "</style>\n",
       "<table border=\"1\" class=\"dataframe\">\n",
       "  <thead>\n",
       "    <tr style=\"text-align: right;\">\n",
       "      <th></th>\n",
       "      <th>col1</th>\n",
       "      <th>col2</th>\n",
       "      <th>col3</th>\n",
       "    </tr>\n",
       "  </thead>\n",
       "  <tbody>\n",
       "    <tr>\n",
       "      <th>count</th>\n",
       "      <td>10.000000</td>\n",
       "      <td>10.000000</td>\n",
       "      <td>10.000000</td>\n",
       "    </tr>\n",
       "    <tr>\n",
       "      <th>mean</th>\n",
       "      <td>-0.397975</td>\n",
       "      <td>0.359737</td>\n",
       "      <td>-0.117586</td>\n",
       "    </tr>\n",
       "    <tr>\n",
       "      <th>std</th>\n",
       "      <td>1.039869</td>\n",
       "      <td>1.477085</td>\n",
       "      <td>1.182167</td>\n",
       "    </tr>\n",
       "    <tr>\n",
       "      <th>min</th>\n",
       "      <td>-1.977482</td>\n",
       "      <td>-1.720111</td>\n",
       "      <td>-2.410000</td>\n",
       "    </tr>\n",
       "    <tr>\n",
       "      <th>25%</th>\n",
       "      <td>-1.133879</td>\n",
       "      <td>-0.838147</td>\n",
       "      <td>-0.938353</td>\n",
       "    </tr>\n",
       "    <tr>\n",
       "      <th>50%</th>\n",
       "      <td>-0.325417</td>\n",
       "      <td>0.645872</td>\n",
       "      <td>0.258093</td>\n",
       "    </tr>\n",
       "    <tr>\n",
       "      <th>75%</th>\n",
       "      <td>0.510129</td>\n",
       "      <td>1.300300</td>\n",
       "      <td>0.625234</td>\n",
       "    </tr>\n",
       "    <tr>\n",
       "      <th>max</th>\n",
       "      <td>0.889520</td>\n",
       "      <td>2.292869</td>\n",
       "      <td>1.564680</td>\n",
       "    </tr>\n",
       "  </tbody>\n",
       "</table>\n",
       "</div>"
      ],
      "text/plain": [
       "            col1       col2       col3\n",
       "count  10.000000  10.000000  10.000000\n",
       "mean   -0.397975   0.359737  -0.117586\n",
       "std     1.039869   1.477085   1.182167\n",
       "min    -1.977482  -1.720111  -2.410000\n",
       "25%    -1.133879  -0.838147  -0.938353\n",
       "50%    -0.325417   0.645872   0.258093\n",
       "75%     0.510129   1.300300   0.625234\n",
       "max     0.889520   2.292869   1.564680"
      ]
     },
     "execution_count": 14,
     "metadata": {},
     "output_type": "execute_result"
    }
   ],
   "source": [
    "df_1.describe()"
   ]
  },
  {
   "cell_type": "code",
   "execution_count": 15,
   "metadata": {
    "ExecuteTime": {
     "end_time": "2018-06-11T06:54:49.708461Z",
     "start_time": "2018-06-11T06:54:49.697913Z"
    },
    "scrolled": true
   },
   "outputs": [
    {
     "name": "stdout",
     "output_type": "stream",
     "text": [
      "       col1      col2      col3\n",
      "0  0.510873 -0.821334  0.168419\n",
      "1 -1.144135 -0.843752  0.663920\n",
      "2  0.507895  2.292869 -2.410000\n",
      "3  0.281911 -1.720111 -1.287705\n",
      "4  0.889520  0.377303  0.735085\n",
      "5  0.520214  1.185056 -1.143105\n",
      "6 -1.977482 -1.402801 -0.324095\n"
     ]
    }
   ],
   "source": [
    "df_1 = df_1.reindex_like(df_2)\n",
    "\n",
    "print(df_1)\n",
    "\n",
    "# column name must match otherwise NAN will be added"
   ]
  },
  {
   "cell_type": "markdown",
   "metadata": {},
   "source": [
    "## Missing Data"
   ]
  },
  {
   "cell_type": "markdown",
   "metadata": {},
   "source": [
    "### When and why is data missed?"
   ]
  },
  {
   "cell_type": "markdown",
   "metadata": {},
   "source": [
    "### How to check missing values?"
   ]
  },
  {
   "cell_type": "code",
   "execution_count": 27,
   "metadata": {
    "ExecuteTime": {
     "end_time": "2018-06-08T16:12:27.442127Z",
     "start_time": "2018-06-08T16:12:27.389987Z"
    },
    "scrolled": true
   },
   "outputs": [
    {
     "name": "stdout",
     "output_type": "stream",
     "text": [
      "        one       two     three\n",
      "a  0.615638  1.429376  0.752544\n",
      "c  0.194564  0.983944 -0.792175\n",
      "e -0.425801 -1.780161  0.505067\n",
      "f  0.404718  2.004841  1.407920\n",
      "h  0.062916 -0.773470 -0.100087\n",
      "**************************************************\n",
      "        one       two     three\n",
      "a  0.615638  1.429376  0.752544\n",
      "b       NaN       NaN       NaN\n",
      "c  0.194564  0.983944 -0.792175\n",
      "d       NaN       NaN       NaN\n",
      "e -0.425801 -1.780161  0.505067\n",
      "f  0.404718  2.004841  1.407920\n",
      "g       NaN       NaN       NaN\n",
      "h  0.062916 -0.773470 -0.100087\n"
     ]
    }
   ],
   "source": [
    "import pandas as pd\n",
    "import numpy as np\n",
    "\n",
    "df = pd.DataFrame(np.random.randn(5, 3), index = ['a', 'c', 'e', 'f', 'h']\\\n",
    "                 , columns = ['one', 'two', 'three'])\n",
    "\n",
    "print(df)\n",
    "\n",
    "print('*'*50)\n",
    "\n",
    "df = df.reindex(['a', 'b', 'c', 'd', 'e', 'f', 'g', 'h'])\n",
    "\n",
    "print(df)"
   ]
  },
  {
   "cell_type": "code",
   "execution_count": 28,
   "metadata": {
    "ExecuteTime": {
     "end_time": "2018-06-08T16:13:44.462894Z",
     "start_time": "2018-06-08T16:13:44.451974Z"
    },
    "scrolled": true
   },
   "outputs": [
    {
     "name": "stdout",
     "output_type": "stream",
     "text": [
      "a    False\n",
      "b     True\n",
      "c    False\n",
      "d     True\n",
      "e    False\n",
      "f    False\n",
      "g     True\n",
      "h    False\n",
      "Name: one, dtype: bool\n"
     ]
    }
   ],
   "source": [
    "# Check for missing values\n",
    "\n",
    "print(df['one'].isnull())"
   ]
  },
  {
   "cell_type": "code",
   "execution_count": 29,
   "metadata": {
    "ExecuteTime": {
     "end_time": "2018-06-08T16:14:23.325728Z",
     "start_time": "2018-06-08T16:14:23.306053Z"
    },
    "scrolled": false
   },
   "outputs": [
    {
     "name": "stdout",
     "output_type": "stream",
     "text": [
      "a     True\n",
      "b    False\n",
      "c     True\n",
      "d    False\n",
      "e     True\n",
      "f     True\n",
      "g    False\n",
      "h     True\n",
      "Name: one, dtype: bool\n"
     ]
    }
   ],
   "source": [
    "print(df['one'].notnull())"
   ]
  },
  {
   "cell_type": "markdown",
   "metadata": {
    "ExecuteTime": {
     "end_time": "2018-06-08T16:17:31.262557Z",
     "start_time": "2018-06-08T16:17:31.170897Z"
    }
   },
   "source": [
    "### Calculations with missing values"
   ]
  },
  {
   "cell_type": "code",
   "execution_count": 30,
   "metadata": {
    "ExecuteTime": {
     "end_time": "2018-06-08T16:17:31.262557Z",
     "start_time": "2018-06-08T16:17:31.170897Z"
    }
   },
   "outputs": [
    {
     "name": "stdout",
     "output_type": "stream",
     "text": [
      "0.8520348261281738\n"
     ]
    }
   ],
   "source": [
    "# When summing the data, NA will be treated as zero\n",
    "\n",
    "print(df['one'].sum())"
   ]
  },
  {
   "cell_type": "code",
   "execution_count": 31,
   "metadata": {
    "ExecuteTime": {
     "end_time": "2018-06-08T16:19:44.262881Z",
     "start_time": "2018-06-08T16:19:44.166921Z"
    }
   },
   "outputs": [
    {
     "name": "stdout",
     "output_type": "stream",
     "text": [
      "   one  two\n",
      "0  NaN  NaN\n",
      "1  NaN  NaN\n",
      "2  NaN  NaN\n",
      "3  NaN  NaN\n",
      "4  NaN  NaN\n",
      "5  NaN  NaN\n",
      "**************************************************\n",
      "0\n"
     ]
    }
   ],
   "source": [
    "# If the data are all NA, then the result will be NA/Zero\n",
    "\n",
    "df_na = pd.DataFrame(index=[0,1,2,3,4,5], columns=['one', 'two'])\n",
    "\n",
    "print(df_na)\n",
    "\n",
    "print('*'*50)\n",
    "\n",
    "print(df_na['one'].sum())"
   ]
  },
  {
   "cell_type": "markdown",
   "metadata": {
    "ExecuteTime": {
     "end_time": "2018-06-08T16:24:59.452106Z",
     "start_time": "2018-06-08T16:24:59.418676Z"
    }
   },
   "source": [
    "### Cleaning missing data"
   ]
  },
  {
   "cell_type": "code",
   "execution_count": 35,
   "metadata": {
    "ExecuteTime": {
     "end_time": "2018-06-08T16:24:59.452106Z",
     "start_time": "2018-06-08T16:24:59.418676Z"
    },
    "scrolled": false
   },
   "outputs": [
    {
     "name": "stdout",
     "output_type": "stream",
     "text": [
      "        one      two     three\n",
      "a -0.525902  0.02803  1.754397\n",
      "c -0.766020 -0.79353  0.307985\n",
      "e  1.368870 -1.53161  0.074399\n",
      "**************************************************\n",
      "        one      two     three\n",
      "a -0.525902  0.02803  1.754397\n",
      "b       NaN      NaN       NaN\n",
      "c -0.766020 -0.79353  0.307985\n",
      "**************************************************\n",
      "        one      two     three\n",
      "a -0.525902  0.02803  1.754397\n",
      "b  0.000000  0.00000  0.000000\n",
      "c -0.766020 -0.79353  0.307985\n"
     ]
    }
   ],
   "source": [
    "# Replacing nan with a Scalar value\n",
    "\n",
    "df = pd.DataFrame(np.random.randn(3, 3), index=['a', 'c', 'e'], \\\n",
    "                 columns=['one', 'two', 'three'])\n",
    "\n",
    "print(df)\n",
    "\n",
    "print('*'*50)\n",
    "\n",
    "df = df.reindex(['a', 'b', 'c'])\n",
    "\n",
    "print(df)\n",
    "\n",
    "print('*'*50)\n",
    "\n",
    "print(df.fillna(0))"
   ]
  },
  {
   "cell_type": "markdown",
   "metadata": {
    "ExecuteTime": {
     "end_time": "2018-06-08T16:25:46.695862Z",
     "start_time": "2018-06-08T16:25:46.667402Z"
    }
   },
   "source": [
    "### Drop missing values"
   ]
  },
  {
   "cell_type": "code",
   "execution_count": 36,
   "metadata": {
    "ExecuteTime": {
     "end_time": "2018-06-08T16:25:46.695862Z",
     "start_time": "2018-06-08T16:25:46.667402Z"
    },
    "scrolled": true
   },
   "outputs": [
    {
     "name": "stdout",
     "output_type": "stream",
     "text": [
      "        one       two     three\n",
      "a  0.439865  0.534521  0.939903\n",
      "c  0.184990 -0.334263 -0.833076\n",
      "e  0.940437 -0.395219 -0.018264\n",
      "f  1.020597  0.872912 -1.341979\n",
      "h  0.255568  0.455560  0.197888\n",
      "**************************************************\n",
      "        one       two     three\n",
      "a  0.439865  0.534521  0.939903\n",
      "b       NaN       NaN       NaN\n",
      "c  0.184990 -0.334263 -0.833076\n",
      "d       NaN       NaN       NaN\n",
      "e  0.940437 -0.395219 -0.018264\n",
      "f  1.020597  0.872912 -1.341979\n",
      "g       NaN       NaN       NaN\n",
      "h  0.255568  0.455560  0.197888\n"
     ]
    }
   ],
   "source": [
    "import pandas as pd\n",
    "import numpy as np\n",
    "\n",
    "df = pd.DataFrame(np.random.randn(5, 3), index = ['a', 'c', 'e', 'f', 'h']\\\n",
    "                 , columns = ['one', 'two', 'three'])\n",
    "\n",
    "print(df)\n",
    "\n",
    "print('*'*50)\n",
    "\n",
    "df = df.reindex(['a', 'b', 'c', 'd', 'e', 'f', 'g', 'h'])\n",
    "\n",
    "print(df)"
   ]
  },
  {
   "cell_type": "code",
   "execution_count": 37,
   "metadata": {
    "ExecuteTime": {
     "end_time": "2018-06-08T16:26:03.765460Z",
     "start_time": "2018-06-08T16:26:03.751175Z"
    },
    "scrolled": false
   },
   "outputs": [
    {
     "name": "stdout",
     "output_type": "stream",
     "text": [
      "        one       two     three\n",
      "a  0.439865  0.534521  0.939903\n",
      "c  0.184990 -0.334263 -0.833076\n",
      "e  0.940437 -0.395219 -0.018264\n",
      "f  1.020597  0.872912 -1.341979\n",
      "h  0.255568  0.455560  0.197888\n"
     ]
    }
   ],
   "source": [
    "print(df.dropna())"
   ]
  },
  {
   "cell_type": "code",
   "execution_count": 38,
   "metadata": {
    "ExecuteTime": {
     "end_time": "2018-06-08T16:26:33.888995Z",
     "start_time": "2018-06-08T16:26:33.870128Z"
    },
    "scrolled": true
   },
   "outputs": [
    {
     "name": "stdout",
     "output_type": "stream",
     "text": [
      "Empty DataFrame\n",
      "Columns: []\n",
      "Index: [a, b, c, d, e, f, g, h]\n"
     ]
    }
   ],
   "source": [
    "print(df.dropna(axis=1))"
   ]
  },
  {
   "cell_type": "markdown",
   "metadata": {},
   "source": [
    "## Data"
   ]
  },
  {
   "cell_type": "markdown",
   "metadata": {},
   "source": [
    "Numbers\n",
    "\n",
    "Categorical"
   ]
  },
  {
   "cell_type": "markdown",
   "metadata": {},
   "source": [
    "## A Small Case Study"
   ]
  },
  {
   "cell_type": "markdown",
   "metadata": {},
   "source": [
    "http://analytics-magazine.org/missing-values/\n",
    "\n",
    "<b>Major takeaway:</b>\n",
    "1. Missing values in the data create uncertainty for the analyst and the information consumer because decisions need to be made without having the full picture.\n",
    "2. Missing values can also reduce the number of usable records for the analysis, or force analysts to eliminate variables from the analysis.\n",
    "3. Consequently, if an observation has a missing value in any of the required variables, the whole observation (data record) needs to be omitted from the analysis.\n",
    "4. Other options would be to exclude it from the analysis variable as a whole or to insert imputation values for the missing data points.\n"
   ]
  },
  {
   "cell_type": "code",
   "execution_count": null,
   "metadata": {},
   "outputs": [],
   "source": []
  }
 ],
 "metadata": {
  "kernelspec": {
   "display_name": "Python 3",
   "language": "python",
   "name": "python3"
  },
  "language_info": {
   "codemirror_mode": {
    "name": "ipython",
    "version": 3
   },
   "file_extension": ".py",
   "mimetype": "text/x-python",
   "name": "python",
   "nbconvert_exporter": "python",
   "pygments_lexer": "ipython3",
   "version": "3.6.5"
  },
  "toc": {
   "nav_menu": {},
   "number_sections": true,
   "sideBar": true,
   "skip_h1_title": false,
   "title_cell": "Table of Contents",
   "title_sidebar": "Contents",
   "toc_cell": false,
   "toc_position": {},
   "toc_section_display": true,
   "toc_window_display": false
  },
  "varInspector": {
   "cols": {
    "lenName": 16,
    "lenType": 16,
    "lenVar": 40
   },
   "kernels_config": {
    "python": {
     "delete_cmd_postfix": "",
     "delete_cmd_prefix": "del ",
     "library": "var_list.py",
     "varRefreshCmd": "print(var_dic_list())"
    },
    "r": {
     "delete_cmd_postfix": ") ",
     "delete_cmd_prefix": "rm(",
     "library": "var_list.r",
     "varRefreshCmd": "cat(var_dic_list()) "
    }
   },
   "types_to_exclude": [
    "module",
    "function",
    "builtin_function_or_method",
    "instance",
    "_Feature"
   ],
   "window_display": false
  }
 },
 "nbformat": 4,
 "nbformat_minor": 2
}
